{
 "cells": [
  {
   "cell_type": "markdown",
   "metadata": {},
   "source": [
    "## Ejercicio 1: Transformar cadenas"
   ]
  },
  {
   "cell_type": "code",
   "execution_count": null,
   "metadata": {},
   "outputs": [],
   "source": [
    "texto = \"\"\"Interesting facts about the Moon. The Moon is Earth's only satellite. There are several interesting facts about the Moon and how it affects life here on Earth. \n",
    "On average, the Moon moves 4cm away from the Earth every year. This yearly drift is not significant enough to cause immediate effects on Earth. The highest daylight temperature of the Moon is 127 C.\"\"\"\n",
    "textoDividido=texto.split(\". \")\n",
    "print(\"oraciones: \")\n",
    "print( textoDividido)\n",
    "\n",
    "print(\"Posicion de la palabra Moon \" + str(texto.find('Moon')))\n",
    "print(\"Cuantas veces esta Moon en el texto: \"+str(texto.count('Moon')))\n",
    "\n",
    "palabras= [\"Earth\", \"Moon\"]\n",
    "### impresion de cadena que contengan las palabras \n",
    "for frases in textoDividido:\n",
    "    for palabra in palabras:\n",
    "        if palabra in frases:\n",
    "            ### imprime y interumpe el for\n",
    "             print(frases)\n",
    "             break\n",
    "print(\"Cambio de palabra\")\n",
    "for frases in textoDividido:\n",
    "    for palabra in palabras:\n",
    "        if palabra in frases:\n",
    "            print(frases.replace(' C', ' Celsius'))\n",
    "            break\n",
    "\n",
    "\n"
   ]
  },
  {
   "cell_type": "markdown",
   "metadata": {},
   "source": [
    "## Ejercicio 2: Formateando Cadenas"
   ]
  },
  {
   "cell_type": "code",
   "execution_count": 55,
   "metadata": {},
   "outputs": [
    {
     "name": "stdout",
     "output_type": "stream",
     "text": [
      "gravedad en la Earth y la Moon\n",
      "gravedad en la Earth y la Moon\n",
      "El planeta Earth tiene una gravedad de 1.6199999999999999m/s2\n",
      "El planeta Earth tiene una gravedad de 1.6199999999999999 m/s2\n",
      "Gravedad En La Earth Y La Moon El planeta Earth tiene una gravedad de 1.6199999999999999m/s2\n",
      "Gravedad En La Earth Y La Moon El planeta Earth tiene una gravedad de 1.6199999999999999m/s2\n",
      "El planeta Marte tiene una gravedad de 1.4300000000000002m/s2\n",
      "El planeta Marte tiene una gravedad de 1.4300000000000002m/s2\n"
     ]
    }
   ],
   "source": [
    "name = \"Moon\"\n",
    "gravity = 0.00162 # in kms\n",
    "planet = \"Earth\"\n",
    "\n",
    "\n",
    "\n",
    "titulo = f'gravedad en la {planet} y la {name}'\n",
    "titulo2= \"gravedad en la \" +planet +\" y la \"+name\n",
    "print(titulo)\n",
    "print(titulo2)\n",
    "\n",
    "\n",
    "plantilla = f\"\"\"El planeta {planet} tiene una gravedad de {gravity * 1000}m/s2\"\"\"\n",
    "plantilla2 =\"El planeta \"+planet+ \" tiene una gravedad de \"+ str(gravity * 1000) +\" m/s2\"\n",
    "print(plantilla)\n",
    "print(plantilla2)\n",
    "\n",
    "union = f\"\"\"{titulo.title()} {plantilla}\"\"\" \n",
    "union2=titulo.title()+\" \"+plantilla\n",
    "\n",
    "print(union)\n",
    "print(union2)\n",
    "\n",
    "planet = \"Marte\"\n",
    "gravity  = 0.00143\n",
    "name = \"Ganímedes\"\n",
    "plantilla = f\"\"\"El planeta {planet} tiene una gravedad de {gravity * 1000}m/s2\"\"\"\n",
    "print(plantilla)\n",
    "print(plantilla.format( planet=planet, gravity=gravity))\n",
    "\n",
    "\n"
   ]
  }
 ],
 "metadata": {
  "interpreter": {
   "hash": "ff6aa13da6894090a69066f5415cb687f3c44c5c9ebaa9e4f05936d4a7e1ff4e"
  },
  "kernelspec": {
   "display_name": "Python 3.10.2 64-bit (windows store)",
   "language": "python",
   "name": "python3"
  },
  "language_info": {
   "codemirror_mode": {
    "name": "ipython",
    "version": 3
   },
   "file_extension": ".py",
   "mimetype": "text/x-python",
   "name": "python",
   "nbconvert_exporter": "python",
   "pygments_lexer": "ipython3",
   "version": "3.10.2"
  },
  "orig_nbformat": 4
 },
 "nbformat": 4,
 "nbformat_minor": 2
}
