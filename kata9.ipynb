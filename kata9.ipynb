{
 "cells": [
  {
   "cell_type": "markdown",
   "metadata": {},
   "source": [
    "## Ejercicio: Uso de funciones en Python"
   ]
  },
  {
   "cell_type": "code",
   "execution_count": null,
   "metadata": {},
   "outputs": [],
   "source": [
    "def informe(tanque1, tanque2, tanque3):\n",
    "    Promedio = (tanque1 + tanque2 + tanque3) / 3\n",
    "    return f\"\"\"\n",
    "    tanque1 tiene {tanque1}L\n",
    "    tanque2 tiene {tanque2}L\n",
    "    tanque3 tiene {tanque3}L  en promedio se tiene  {Promedio}\"\"\"\n",
    "\n",
    "print(informe(2,3,4)) \n",
    "def promedio(values):\n",
    "    total = sum(values)\n",
    "    number_of_items = len(values)\n",
    "    return total / number_of_items\n",
    "def promedio(tanque1, tanque2, tanque3):\n",
    "    Promedio = (tanque1 + tanque2 + tanque3) / 3\n",
    "    return f\"\"\"\n",
    "    tanque1 tiene {tanque1}L\n",
    "    tanque2 tiene {tanque2}L\n",
    "    tanque3 tiene {tanque3}L  en promedio se tiene  {promedio(tanque1,tanque2,tanque3)}\"\"\"\n",
    "\n",
    "print(informe(2,3,4)) \n"
   ]
  },
  {
   "cell_type": "markdown",
   "metadata": {},
   "source": [
    "## Ejercicio 2: Trabajo con argumentos de palabra clave"
   ]
  },
  {
   "cell_type": "code",
   "execution_count": 24,
   "metadata": {},
   "outputs": [
    {
     "name": "stdout",
     "output_type": "stream",
     "text": [
      "DestinoSoltiempo de vuelo:12 hora de lanzamiento43 tanque externo5000tanque interno3000\n",
      "Destino: Sol tiempo de vuelo: 175 minutos total gasolina 640000\n",
      "Detino:sol tiempo de vuelo:37total gasolina6566 El tanque interno tiene 4234L El tanque externo tiene 2332L\n"
     ]
    }
   ],
   "source": [
    "def informeCohete(horapreLanzamiento, tiempoVuelo, destino, tanqueExterno, tanqueInterno):\n",
    "    return \"Destino\"+ destino+ \"tiempo de vuelo:\" +str(tiempoVuelo)+\" hora de lanzamiento\"+str(horapreLanzamiento)+\" tanque externo\"+str(tanqueExterno)+ \"tanque interno\"+ str(tanqueInterno)\n",
    "\n",
    "print(informeCohete(43, 12, \"Sol\", 5000, 3000))\n",
    "\n",
    "def informeCohete(destino, *minutos, **gasolina):\n",
    "    return \"Destino: \"+ destino+ \" tiempo de vuelo: \"+ str(sum(minutos))+ \" minutos total gasolina \"+ str(sum(gasolina.values()))\n",
    "\n",
    "print(informeCohete(\"Sol\", 120, 32, 23, interno=440000, externo=200000))\n",
    "\n",
    "def informeCohete(destino, *minutos, **gasolinaReserva):\n",
    "    informe = \"Detino:\"+ destino+ \" tiempo de vuelo:\"+ str(sum(minutos))+ \"total gasolina\"+ str(sum(gasolinaReserva.values()))\n",
    "    for tanque, litros in gasolinaReserva.items():\n",
    "        informe += f\" El tanque {tanque} tiene {litros}L\"\n",
    "    return informe\n",
    "\n",
    "print(informeCohete(\"sol\",2, 13, 22, interno=4234,externo=2332))"
   ]
  }
 ],
 "metadata": {
  "interpreter": {
   "hash": "ff6aa13da6894090a69066f5415cb687f3c44c5c9ebaa9e4f05936d4a7e1ff4e"
  },
  "kernelspec": {
   "display_name": "Python 3.10.2 64-bit (windows store)",
   "language": "python",
   "name": "python3"
  },
  "language_info": {
   "codemirror_mode": {
    "name": "ipython",
    "version": 3
   },
   "file_extension": ".py",
   "mimetype": "text/x-python",
   "name": "python",
   "nbconvert_exporter": "python",
   "pygments_lexer": "ipython3",
   "version": "3.10.2"
  },
  "orig_nbformat": 4
 },
 "nbformat": 4,
 "nbformat_minor": 2
}
